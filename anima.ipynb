{
 "cells": [
  {
   "cell_type": "code",
   "execution_count": 138,
   "metadata": {},
   "outputs": [],
   "source": [
    "from functools import wraps\n",
    "from redis import Redis\n",
    "from typing import get_type_hints, Dict, Any\n",
    "import uuid\n",
    "import time\n",
    "from pydantic import BaseModel\n",
    "from redis_om import JsonModel\n",
    "from dataclasses import dataclass\n",
    "from collections import defaultdict"
   ]
  },
  {
   "cell_type": "code",
   "execution_count": 45,
   "metadata": {},
   "outputs": [],
   "source": [
    "class Watch:\n",
    "    def __init__(self, val:JsonModel, redis_args:Dict=None):\n",
    "        if not redis_args:\n",
    "            redis_args = {}\n",
    "        self.pk = uuid.uuid4().hex\n",
    "        self.stream_key = f\"event:{self.__class__.__name__}:{self.pk}\"\n",
    "        self.redis_conn = Redis(**redis_args)\n",
    "        self.val = val\n",
    "    \n",
    "    def __lshift__(self, val:Any):\n",
    "        self.redis_conn.xadd(\"event\")\n",
    "        self.val = val\n",
    "        print(f\"new : {self.val}\")\n",
    "    \n",
    "    def notify(self, old, new):\n",
    "        self.redis_conn.xadd(name=self.stream_key,fields={\"time\":time.time()})\n",
    "\n",
    "    def __repr__(self) -> str:\n",
    "        return repr(self.val)\n",
    "    \n",
    "    def __str__(self) -> str:\n",
    "        return str(self.val)\n",
    "\n"
   ]
  },
  {
   "cell_type": "code",
   "execution_count": 156,
   "metadata": {},
   "outputs": [],
   "source": [
    "class Anima:\n",
    "    def __init__(self, *args, **kwargs):\n",
    "        self.redis_conn = Redis(*args, **kwargs)\n",
    "        self.watch_index = {}\n",
    "    \n",
    "    def watch(outer_self, wrapped:type):\n",
    "        outer_self.watch_index[hash(wrapped)] = {\"class\":wrapped,\"instances\":[]}\n",
    "\n",
    "        orig_init = wrapped.__init__\n",
    "        def new_init(self, *args, **kwargs):\n",
    "            outer_self.watch_index[hash(self.__class__)][\"instances\"].append(self)\n",
    "            print(outer_self.watch_index)\n",
    "            orig_init(self, *args, **kwargs)\n",
    "        wrapped.__init__ = new_init\n",
    "\n",
    "        orig_setattr = wrapped.__setattr__\n",
    "        def new_setattr(self, __name:str, __value:Any):\n",
    "            outer_self.redis_conn.xadd(\"lmao\", {\"lol\":1})\n",
    "            orig_setattr(self, __name, __value)\n",
    "        wrapped.__setattr__ = new_setattr\n",
    "        return wrapped"
   ]
  },
  {
   "cell_type": "code",
   "execution_count": 157,
   "metadata": {},
   "outputs": [
    {
     "data": {
      "text/plain": [
       "True"
      ]
     },
     "execution_count": 157,
     "metadata": {},
     "output_type": "execute_result"
    }
   ],
   "source": [
    "app = Anima()\n",
    "app.redis_conn.ping()"
   ]
  },
  {
   "cell_type": "code",
   "execution_count": 158,
   "metadata": {},
   "outputs": [],
   "source": [
    "@app.watch\n",
    "class T:\n",
    "    ..."
   ]
  },
  {
   "cell_type": "code",
   "execution_count": 159,
   "metadata": {},
   "outputs": [
    {
     "name": "stdout",
     "output_type": "stream",
     "text": [
      "{3183219: {'class': <class '__main__.T'>, 'instances': [<__main__.T object at 0x7f77c7f086d0>]}}\n"
     ]
    }
   ],
   "source": [
    "t = T()"
   ]
  },
  {
   "cell_type": "code",
   "execution_count": 160,
   "metadata": {},
   "outputs": [],
   "source": [
    "t.a = \"A\""
   ]
  },
  {
   "cell_type": "code",
   "execution_count": 161,
   "metadata": {},
   "outputs": [
    {
     "data": {
      "text/plain": [
       "'A'"
      ]
     },
     "execution_count": 161,
     "metadata": {},
     "output_type": "execute_result"
    }
   ],
   "source": [
    "t.a"
   ]
  }
 ],
 "metadata": {
  "kernelspec": {
   "display_name": "env11",
   "language": "python",
   "name": "python3"
  },
  "language_info": {
   "codemirror_mode": {
    "name": "ipython",
    "version": 3
   },
   "file_extension": ".py",
   "mimetype": "text/x-python",
   "name": "python",
   "nbconvert_exporter": "python",
   "pygments_lexer": "ipython3",
   "version": "3.11.0"
  },
  "orig_nbformat": 4,
  "vscode": {
   "interpreter": {
    "hash": "fd96013264f8ff1ab018f010b3d56edcd5547e4acee599b946252c002af3f544"
   }
  }
 },
 "nbformat": 4,
 "nbformat_minor": 2
}
